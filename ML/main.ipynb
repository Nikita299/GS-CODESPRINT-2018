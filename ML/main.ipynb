{
 "cells": [
  {
   "cell_type": "code",
   "execution_count": 1,
   "metadata": {
    "collapsed": true
   },
   "outputs": [],
   "source": [
    "import tensorflow as tf\n",
    "import pandas as pd\n",
    "import numpy as np"
   ]
  },
  {
   "cell_type": "code",
   "execution_count": 2,
   "metadata": {},
   "outputs": [
    {
     "name": "stderr",
     "output_type": "stream",
     "text": [
      "Using Theano backend.\n"
     ]
    }
   ],
   "source": [
    "from sklearn.model_selection import train_test_split\n",
    "import operator\n",
    "from sklearn.ensemble import ExtraTreesClassifier\n",
    "from sklearn.pipeline import make_pipeline\n",
    "from sklearn.preprocessing import PolynomialFeatures\n",
    "from sklearn.naive_bayes import GaussianNB\n",
    "from sklearn.ensemble import GradientBoostingClassifier\n",
    "from sklearn.ensemble import RandomForestClassifier\n",
    "from sklearn.cluster import KMeans\n",
    "from sklearn.metrics import accuracy_score\n",
    "from sklearn.metrics import confusion_matrix\n",
    "from sklearn import tree\n",
    "import numpy\n",
    "import keras\n",
    "import json\n",
    "from sklearn.feature_extraction.text import TfidfVectorizer\n",
    "from keras.optimizers import SGD\n",
    "from keras.models import Sequential\n",
    "from keras.layers import Activation, Dropout, Flatten, Dense, LSTM\n",
    "from keras.wrappers.scikit_learn import KerasClassifier\n",
    "from sklearn.model_selection import cross_val_score\n",
    "from sklearn.preprocessing import LabelEncoder\n",
    "from sklearn.model_selection import StratifiedKFold\n",
    "from sklearn.preprocessing import StandardScaler\n",
    "from sklearn.pipeline import Pipeline\n",
    "from sklearn.svm import SVC,LinearSVC\n",
    "from sklearn.linear_model import LogisticRegression"
   ]
  },
  {
   "cell_type": "code",
   "execution_count": 3,
   "metadata": {
    "collapsed": true
   },
   "outputs": [],
   "source": [
    "data = pd.read_csv('train.csv')"
   ]
  },
  {
   "cell_type": "code",
   "execution_count": 7,
   "metadata": {},
   "outputs": [
    {
     "data": {
      "text/html": [
       "<div>\n",
       "<style>\n",
       "    .dataframe thead tr:only-child th {\n",
       "        text-align: right;\n",
       "    }\n",
       "\n",
       "    .dataframe thead th {\n",
       "        text-align: left;\n",
       "    }\n",
       "\n",
       "    .dataframe tbody tr th {\n",
       "        vertical-align: top;\n",
       "    }\n",
       "</style>\n",
       "<table border=\"1\" class=\"dataframe\">\n",
       "  <thead>\n",
       "    <tr style=\"text-align: right;\">\n",
       "      <th></th>\n",
       "      <th>buying_price</th>\n",
       "      <th>maintainence_cost</th>\n",
       "      <th>number_of_doors</th>\n",
       "      <th>number_of_seats</th>\n",
       "      <th>luggage_boot_size</th>\n",
       "      <th>safety_rating</th>\n",
       "      <th>popularity</th>\n",
       "    </tr>\n",
       "  </thead>\n",
       "  <tbody>\n",
       "    <tr>\n",
       "      <th>count</th>\n",
       "      <td>1628.000000</td>\n",
       "      <td>1628.000000</td>\n",
       "      <td>1628.000000</td>\n",
       "      <td>1628.000000</td>\n",
       "      <td>1628.000000</td>\n",
       "      <td>1628.000000</td>\n",
       "      <td>1628.000000</td>\n",
       "    </tr>\n",
       "    <tr>\n",
       "      <th>mean</th>\n",
       "      <td>2.532555</td>\n",
       "      <td>2.528256</td>\n",
       "      <td>3.493857</td>\n",
       "      <td>3.633292</td>\n",
       "      <td>1.987101</td>\n",
       "      <td>1.977887</td>\n",
       "      <td>1.348280</td>\n",
       "    </tr>\n",
       "    <tr>\n",
       "      <th>std</th>\n",
       "      <td>1.109626</td>\n",
       "      <td>1.116920</td>\n",
       "      <td>1.120557</td>\n",
       "      <td>1.257815</td>\n",
       "      <td>0.816520</td>\n",
       "      <td>0.819704</td>\n",
       "      <td>0.654766</td>\n",
       "    </tr>\n",
       "    <tr>\n",
       "      <th>min</th>\n",
       "      <td>1.000000</td>\n",
       "      <td>1.000000</td>\n",
       "      <td>2.000000</td>\n",
       "      <td>2.000000</td>\n",
       "      <td>1.000000</td>\n",
       "      <td>1.000000</td>\n",
       "      <td>1.000000</td>\n",
       "    </tr>\n",
       "    <tr>\n",
       "      <th>25%</th>\n",
       "      <td>2.000000</td>\n",
       "      <td>2.000000</td>\n",
       "      <td>2.000000</td>\n",
       "      <td>2.000000</td>\n",
       "      <td>1.000000</td>\n",
       "      <td>1.000000</td>\n",
       "      <td>1.000000</td>\n",
       "    </tr>\n",
       "    <tr>\n",
       "      <th>50%</th>\n",
       "      <td>3.000000</td>\n",
       "      <td>3.000000</td>\n",
       "      <td>3.000000</td>\n",
       "      <td>4.000000</td>\n",
       "      <td>2.000000</td>\n",
       "      <td>2.000000</td>\n",
       "      <td>1.000000</td>\n",
       "    </tr>\n",
       "    <tr>\n",
       "      <th>75%</th>\n",
       "      <td>4.000000</td>\n",
       "      <td>4.000000</td>\n",
       "      <td>4.250000</td>\n",
       "      <td>5.000000</td>\n",
       "      <td>3.000000</td>\n",
       "      <td>3.000000</td>\n",
       "      <td>2.000000</td>\n",
       "    </tr>\n",
       "    <tr>\n",
       "      <th>max</th>\n",
       "      <td>4.000000</td>\n",
       "      <td>4.000000</td>\n",
       "      <td>5.000000</td>\n",
       "      <td>5.000000</td>\n",
       "      <td>3.000000</td>\n",
       "      <td>3.000000</td>\n",
       "      <td>4.000000</td>\n",
       "    </tr>\n",
       "  </tbody>\n",
       "</table>\n",
       "</div>"
      ],
      "text/plain": [
       "       buying_price  maintainence_cost  number_of_doors  number_of_seats  \\\n",
       "count   1628.000000        1628.000000      1628.000000      1628.000000   \n",
       "mean       2.532555           2.528256         3.493857         3.633292   \n",
       "std        1.109626           1.116920         1.120557         1.257815   \n",
       "min        1.000000           1.000000         2.000000         2.000000   \n",
       "25%        2.000000           2.000000         2.000000         2.000000   \n",
       "50%        3.000000           3.000000         3.000000         4.000000   \n",
       "75%        4.000000           4.000000         4.250000         5.000000   \n",
       "max        4.000000           4.000000         5.000000         5.000000   \n",
       "\n",
       "       luggage_boot_size  safety_rating   popularity  \n",
       "count        1628.000000    1628.000000  1628.000000  \n",
       "mean            1.987101       1.977887     1.348280  \n",
       "std             0.816520       0.819704     0.654766  \n",
       "min             1.000000       1.000000     1.000000  \n",
       "25%             1.000000       1.000000     1.000000  \n",
       "50%             2.000000       2.000000     1.000000  \n",
       "75%             3.000000       3.000000     2.000000  \n",
       "max             3.000000       3.000000     4.000000  "
      ]
     },
     "execution_count": 7,
     "metadata": {},
     "output_type": "execute_result"
    }
   ],
   "source": [
    "data.describe()"
   ]
  },
  {
   "cell_type": "code",
   "execution_count": 7,
   "metadata": {
    "collapsed": true
   },
   "outputs": [],
   "source": [
    "train = data\n",
    "train_x=train.drop('popularity',axis=1)\n",
    "train_y=train['popularity']"
   ]
  },
  {
   "cell_type": "code",
   "execution_count": 31,
   "metadata": {
    "collapsed": true
   },
   "outputs": [],
   "source": [
    "test = pd.read_csv('test.csv')"
   ]
  },
  {
   "cell_type": "code",
   "execution_count": 35,
   "metadata": {
    "collapsed": true
   },
   "outputs": [],
   "source": [
    "#exported_pipeline = GradientBoostingClassifier(learning_rate=0.5, max_depth=8, max_features=0.8, min_samples_leaf=3, min_samples_split=11, n_estimators=100, subsample=0.85)\n",
    "exported_pipeline = make_pipeline(\n",
    "    PolynomialFeatures(degree=2, include_bias=False, interaction_only=False),\n",
    "    ExtraTreesClassifier(bootstrap=True, criterion=\"gini\", max_features=0.6, min_samples_leaf=1, min_samples_split=3, n_estimators=100)\n",
    ")\n",
    "exported_pipeline.fit(train_x, train_y)\n",
    "results = exported_pipeline.predict(test)"
   ]
  },
  {
   "cell_type": "code",
   "execution_count": 36,
   "metadata": {
    "collapsed": true
   },
   "outputs": [],
   "source": [
    "results\n",
    "rf = pd.DataFrame({\"as\": results})"
   ]
  },
  {
   "cell_type": "code",
   "execution_count": 37,
   "metadata": {
    "collapsed": true
   },
   "outputs": [],
   "source": [
    "rf.to_csv(\"submit3.csv\", sep=',',encoding='utf-8', index=False)"
   ]
  },
  {
   "cell_type": "code",
   "execution_count": 32,
   "metadata": {},
   "outputs": [
    {
     "name": "stdout",
     "output_type": "stream",
     "text": [
      "    buying_price  maintainence_cost  number_of_doors  number_of_seats  \\\n",
      "0              4                  1                2                2   \n",
      "1              2                  1                3                4   \n",
      "2              4                  4                2                5   \n",
      "3              4                  3                3                2   \n",
      "4              4                  2                2                4   \n",
      "5              4                  3                5                2   \n",
      "6              1                  3                3                5   \n",
      "7              1                  2                5                5   \n",
      "8              1                  1                2                4   \n",
      "9              2                  4                2                5   \n",
      "10             2                  1                5                4   \n",
      "11             2                  1                3                4   \n",
      "12             1                  2                4                4   \n",
      "13             1                  2                5                4   \n",
      "14             1                  2                5                5   \n",
      "15             2                  1                4                5   \n",
      "16             3                  4                4                4   \n",
      "17             1                  2                3                5   \n",
      "18             4                  3                3                2   \n",
      "19             4                  2                4                4   \n",
      "20             2                  1                2                4   \n",
      "21             2                  1                2                4   \n",
      "22             2                  1                4                4   \n",
      "23             2                  1                5                5   \n",
      "24             1                  3                4                4   \n",
      "25             1                  2                4                5   \n",
      "26             1                  2                2                4   \n",
      "27             1                  1                4                5   \n",
      "28             4                  2                4                5   \n",
      "29             1                  1                2                5   \n",
      "..           ...                ...              ...              ...   \n",
      "70             1                  3                5                5   \n",
      "71             1                  1                2                5   \n",
      "72             1                  3                5                4   \n",
      "73             3                  3                2                5   \n",
      "74             1                  4                4                4   \n",
      "75             4                  1                4                2   \n",
      "76             1                  1                4                5   \n",
      "77             2                  2                5                5   \n",
      "78             1                  1                4                4   \n",
      "79             1                  1                5                4   \n",
      "80             1                  4                3                4   \n",
      "81             1                  2                3                5   \n",
      "82             1                  1                5                5   \n",
      "83             1                  2                3                4   \n",
      "84             1                  3                4                5   \n",
      "85             1                  1                3                4   \n",
      "86             2                  2                4                4   \n",
      "87             2                  2                4                5   \n",
      "88             1                  1                4                4   \n",
      "89             1                  1                3                5   \n",
      "90             4                  4                3                5   \n",
      "91             2                  3                5                5   \n",
      "92             1                  3                2                4   \n",
      "93             4                  1                4                5   \n",
      "94             1                  2                3                4   \n",
      "95             3                  1                4                2   \n",
      "96             3                  2                4                4   \n",
      "97             1                  1                5                4   \n",
      "98             1                  1                3                4   \n",
      "99             1                  3                4                2   \n",
      "\n",
      "    luggage_boot_size  safety_rating  \n",
      "0                   2              2  \n",
      "1                   3              2  \n",
      "2                   1              2  \n",
      "3                   2              2  \n",
      "4                   3              2  \n",
      "5                   3              3  \n",
      "6                   3              3  \n",
      "7                   3              2  \n",
      "8                   3              3  \n",
      "9                   2              1  \n",
      "10                  2              2  \n",
      "11                  1              3  \n",
      "12                  3              3  \n",
      "13                  2              2  \n",
      "14                  3              1  \n",
      "15                  3              2  \n",
      "16                  2              1  \n",
      "17                  2              2  \n",
      "18                  2              3  \n",
      "19                  2              3  \n",
      "20                  3              2  \n",
      "21                  2              3  \n",
      "22                  3              2  \n",
      "23                  2              3  \n",
      "24                  2              2  \n",
      "25                  1              3  \n",
      "26                  3              2  \n",
      "27                  3              3  \n",
      "28                  3              2  \n",
      "29                  2              3  \n",
      "..                ...            ...  \n",
      "70                  2              3  \n",
      "71                  3              3  \n",
      "72                  1              3  \n",
      "73                  3              1  \n",
      "74                  3              2  \n",
      "75                  1              1  \n",
      "76                  2              1  \n",
      "77                  2              3  \n",
      "78                  1              2  \n",
      "79                  3              2  \n",
      "80                  3              3  \n",
      "81                  3              3  \n",
      "82                  1              3  \n",
      "83                  3              2  \n",
      "84                  3              3  \n",
      "85                  2              3  \n",
      "86                  3              3  \n",
      "87                  2              2  \n",
      "88                  3              3  \n",
      "89                  1              2  \n",
      "90                  1              2  \n",
      "91                  3              3  \n",
      "92                  2              2  \n",
      "93                  2              2  \n",
      "94                  3              3  \n",
      "95                  2              2  \n",
      "96                  3              2  \n",
      "97                  3              3  \n",
      "98                  3              3  \n",
      "99                  1              3  \n",
      "\n",
      "[100 rows x 6 columns]\n"
     ]
    }
   ],
   "source": [
    "print test"
   ]
  },
  {
   "cell_type": "code",
   "execution_count": null,
   "metadata": {
    "collapsed": true
   },
   "outputs": [],
   "source": []
  }
 ],
 "metadata": {
  "kernelspec": {
   "display_name": "Python 2",
   "language": "python",
   "name": "python2"
  },
  "language_info": {
   "codemirror_mode": {
    "name": "ipython",
    "version": 2
   },
   "file_extension": ".py",
   "mimetype": "text/x-python",
   "name": "python",
   "nbconvert_exporter": "python",
   "pygments_lexer": "ipython2",
   "version": "2.7.12"
  }
 },
 "nbformat": 4,
 "nbformat_minor": 2
}
